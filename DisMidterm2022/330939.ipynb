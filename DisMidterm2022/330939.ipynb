{
 "cells": [
  {
   "cell_type": "markdown",
   "metadata": {},
   "source": [
    "# 📘 DIS Midterm - Fall 2022\n",
    "\n",
    "**🎉 Welcome to DIS Midterm that takes place on the 27th of Octomber 2022 from 12:15 to 13:00.**\n",
    "\n",
    "> Please fill the following info:\n",
    "> - Your Name: Arina Rak\n",
    "> - Your SCIPER: 330939\t"
   ]
  },
  {
   "cell_type": "markdown",
   "metadata": {},
   "source": [
    "### 💡 THE BACKSTORY\n",
    "\n",
    "You are an engineer working in the sports news articles website: _allaboutsports.ch_ . The editors' team of this news portal wants to create a piece for the upcoming Summer Olympic Games for the swimming Olympic medalist Katie Ledecky. To do so, they want to collect information not only from the news coverage but also from what is being said about her on social media. Therefore, you are using the Twitter data that have have the hashtag of _#allaboutsportsch_ news portal to find relevant to the athlete tweets that will help the editors.\n",
    "\n",
    "\n",
    "### 🐦 THE DATA\n",
    "\n",
    "The collected tweets are stored into the `allaboutsports_tweets.csv` which contains the following columns:\n",
    "\n",
    "| Column     | Description                   |\n",
    "|------------|-------------------------------|\n",
    "| **id**     | The id of the tweet           |\n",
    "| **tweet**  | The text/content of the tweet |\n",
    "| **relevant**  | Gold labels for retrieval model evaluation in Part 5 |\n",
    "\n",
    "\n",
    "### ✅ THE TASK\n",
    "\n",
    "Build a retrieval system that searches the tweets and retrieve the ones that talk about Katie Ledecky.\n",
    "\n",
    "You will test a Vector Space retrieval model and a Probabilistic model, and you will compare their results & performance."
   ]
  },
  {
   "cell_type": "markdown",
   "metadata": {},
   "source": [
    "## Answer all the parts of the midterm:\n",
    "\n",
    "- [PART 0: Rename your notebook with your SciperNo](#part0)\n",
    "\n",
    "- [PART 1: Parse and understand the data](#part1)\n",
    "    - 1.1 Create the vocabulary of the documents/tweets\n",
    "    - 1.2 Print the 5 most frequent words present in the tweets\n",
    "\n",
    "- [PART 2: Encode documents with Vector Space Retrieval](#part2)\n",
    "    - 2.1 Build the document-frequency matrix.\n",
    "    - 2.2 Build the inverse document-frequency matrix\n",
    "    - 2.3 Vectorize input with Vector Space Model\n",
    "    \n",
    "- [PART 3: Encode documents with Probabilistic Retrieval](#part3)\n",
    "    - 3.1 Compute collection probabilities for each document\n",
    "    - 3.2 Implement query-document likelohood\n",
    "\n",
    "- [PART 4: Retrieve documents](#part4)\n",
    "    - 4.1 Retrieve documents with Vector Space Retrieval \n",
    "    - 4.2 Retrieve documents with Probabilistic retrieval\n",
    "\n",
    "- [PART 5: Evaluate your retrieval system](#part5)\n",
    "    - 5.1 Discuss the precision and recall between the Vector Space and Probabilistic Retrieval\n",
    "    - 5.2 Explain the role of k in retrieval performance\n",
    "    - 5.3 Explain the role of lambda in the Probabilistic retrieval performance"
   ]
  },
  {
   "cell_type": "markdown",
   "metadata": {},
   "source": [
    "# 🍀 GOOD LUCK 🍀"
   ]
  },
  {
   "cell_type": "markdown",
   "metadata": {},
   "source": [
    "<a id='part0'></a>\n",
    "## PART 0: Rename your notebook with your SciperNo\n",
    "\n",
    "The final sumbitted file should have the following name: `SciperNo.ipynb`"
   ]
  },
  {
   "cell_type": "markdown",
   "metadata": {},
   "source": [
    "<a id='part1'></a>\n",
    "## PART 1: Parse and understand the data"
   ]
  },
  {
   "cell_type": "code",
   "execution_count": 6,
   "metadata": {},
   "outputs": [
    {
     "name": "stderr",
     "output_type": "stream",
     "text": [
      "[nltk_data] Downloading package stopwords to\n",
      "[nltk_data]     /Users/arinaruck/nltk_data...\n",
      "[nltk_data]   Package stopwords is already up-to-date!\n",
      "[nltk_data] Downloading package punkt to /Users/arinaruck/nltk_data...\n",
      "[nltk_data]   Package punkt is already up-to-date!\n"
     ]
    }
   ],
   "source": [
    "# Import libraries- you can additionally import any library you want.\n",
    "import pandas as pd\n",
    "import numpy as np\n",
    "from collections import Counter\n",
    "import math\n",
    "import string\n",
    "import nltk\n",
    "from nltk.corpus import stopwords\n",
    "from nltk.stem import PorterStemmer, WordNetLemmatizer\n",
    "import matplotlib.pyplot as plt\n",
    "import seaborn as sns\n",
    "import operator\n",
    "from functools import reduce\n",
    "nltk.download('stopwords')\n",
    "nltk.download('punkt')\n",
    "\n",
    "%matplotlib inline"
   ]
  },
  {
   "cell_type": "code",
   "execution_count": 7,
   "metadata": {},
   "outputs": [],
   "source": [
    "# Utility functions - Nothing to change here.\n",
    "stemmer = PorterStemmer()\n",
    "def tokenize(text):\n",
    "    text = \"\".join([ch for ch in text if ch not in string.punctuation])\n",
    "    tokens = nltk.word_tokenize(text)\n",
    "    return [word.lower() for word in tokens if word not in stopwords.words('english')]\n",
    "\n",
    "def preprocess_text(documents):\n",
    "    docs = list()\n",
    "    for doc in documents:\n",
    "        docs.append(tokenize(doc))  # tokenize\n",
    "    return docs"
   ]
  },
  {
   "cell_type": "code",
   "execution_count": 8,
   "metadata": {},
   "outputs": [
    {
     "data": {
      "text/plain": [
       "50"
      ]
     },
     "execution_count": 8,
     "metadata": {},
     "output_type": "execute_result"
    }
   ],
   "source": [
    "# Read the data\n",
    "tweets = pd.read_csv('allaboutsports_tweets.csv')\n",
    "\n",
    "# Clean the data\n",
    "tweets['clean_tweet'] = preprocess_text(tweets['tweet'].tolist())\n",
    "len(tweets)"
   ]
  },
  {
   "cell_type": "markdown",
   "metadata": {},
   "source": [
    "> #### 1.1 Create the vocabulary of the documents/tweets."
   ]
  },
  {
   "cell_type": "code",
   "execution_count": 9,
   "metadata": {},
   "outputs": [],
   "source": [
    "from collections import defaultdict"
   ]
  },
  {
   "cell_type": "code",
   "execution_count": 10,
   "metadata": {},
   "outputs": [],
   "source": [
    "def get_vocabulary_frequency(documents):\n",
    "    \"\"\"\n",
    "    It parses the input documents and creates a dictionary with the terms and term frequencies.\n",
    "    \n",
    "    INPUT:\n",
    "    Doc1: hello hello world\n",
    "    Doc2: hello friend\n",
    "    \n",
    "    OUTPUT:\n",
    "    {'hello': 3,\n",
    "    'world': 1,\n",
    "    'friend': 1}\n",
    "\n",
    "    :param documents: list of list of str, with the tokenized tweets.\n",
    "    :return: dict, with keys the words and values the frequency of each word.\n",
    "    \"\"\"\n",
    "    vocabulary = defaultdict(int)\n",
    "    for doc in documents:\n",
    "        for word in doc:\n",
    "            vocabulary[word] += 1\n",
    "    return dict(vocabulary)"
   ]
  },
  {
   "cell_type": "code",
   "execution_count": 11,
   "metadata": {},
   "outputs": [
    {
     "data": {
      "text/plain": [
       "412"
      ]
     },
     "execution_count": 11,
     "metadata": {},
     "output_type": "execute_result"
    }
   ],
   "source": [
    "voc = get_vocabulary_frequency(tweets['clean_tweet'].tolist())\n",
    "len(voc)"
   ]
  },
  {
   "cell_type": "markdown",
   "metadata": {},
   "source": [
    "> #### 1.2 Print the 5 most frequent words present in the tweets.\n",
    "> Use the vocabulary frequencies you created in the previous question to find the top-5 words/terms."
   ]
  },
  {
   "cell_type": "code",
   "execution_count": 13,
   "metadata": {},
   "outputs": [
    {
     "data": {
      "text/plain": [
       "[('allaboutsportsch', 50),\n",
       " ('federer', 18),\n",
       " ('roger', 15),\n",
       " ('olympic', 10),\n",
       " ('paris', 9)]"
      ]
     },
     "execution_count": 13,
     "metadata": {},
     "output_type": "execute_result"
    }
   ],
   "source": [
    "voc_sorted = sorted(voc.items(), key=lambda x: x[1], reverse=True)\n",
    "voc_sorted[:5]"
   ]
  },
  {
   "cell_type": "markdown",
   "metadata": {},
   "source": [
    "<a id='part2'></a>\n",
    "## PART 2: Encode documents with Vector Space Retrieval\n",
    "\n",
    "In this part we will encode/vectorize the documents using the **Vector Space Model**. \n",
    "More specifically:\n",
    "- we will compute the term-frequency matrix **(tf)**\n",
    "- we will compute the inverse document frequency **(idf)**\n",
    "- we will vectorize/encode the tweets with **tf-idf**\n",
    "- we will implement the **cosine similarity**"
   ]
  },
  {
   "cell_type": "markdown",
   "metadata": {},
   "source": [
    "> #### 2.1 Build the term-frequency matrix"
   ]
  },
  {
   "cell_type": "code",
   "execution_count": 19,
   "metadata": {},
   "outputs": [],
   "source": [
    "def get_tf(documents, vocabulary):\n",
    "    \"\"\"\n",
    "    It creates the term-frequency matrix with rows the terms of the vocabulary and columns the number of documents.\n",
    "    Each value of the matrix represents the frequency (normalized to document max frequecy) of a term (row) \n",
    "    in a document (column).\n",
    "    \n",
    "    Example:\n",
    "    \n",
    "    > INPUT:\n",
    "    documents:\n",
    "    Doc1: hello hello world\n",
    "    Doc2: hello friend\n",
    "    \n",
    "    voc: \n",
    "    [hello, world, friend]\n",
    "    \n",
    "    > OUPUT:    \n",
    "    [[1, 1],\n",
    "    [0.5, 0],\n",
    "    [0, 1]]\n",
    "    \n",
    "    :param documents: list of list of str, with the tokenized tweets.\n",
    "    :param vocabulary: dict with the vocabulary (computed in 1.1) and each term's frequency.\n",
    "    :return: np.array with the document-term frequencies\n",
    "    \"\"\"\n",
    "    document_term_freq = np.zeros(shape=(len(vocabulary), len(documents)))\n",
    "    voc_to_idx = {term: idx for idx, term in enumerate(vocabulary)}\n",
    "    for j, doc in enumerate(documents):\n",
    "        for word in doc:\n",
    "            document_term_freq[voc_to_idx[word], j] += 1\n",
    "        document_term_freq[:, j] /= document_term_freq[:, j].max()\n",
    "    return document_term_freq"
   ]
  },
  {
   "cell_type": "code",
   "execution_count": 21,
   "metadata": {},
   "outputs": [
    {
     "name": "stdout",
     "output_type": "stream",
     "text": [
      "[[1.  1. ]\n",
      " [0.5 0. ]\n",
      " [0.  1. ]]\n"
     ]
    }
   ],
   "source": [
    "#test tf\n",
    "tf = get_tf([['hello', 'hello', 'world'], ['hello', 'friend']], ['hello', 'world', 'friend'])\n",
    "print(tf)"
   ]
  },
  {
   "cell_type": "code",
   "execution_count": 22,
   "metadata": {},
   "outputs": [
    {
     "data": {
      "text/plain": [
       "(412, 50)"
      ]
     },
     "execution_count": 22,
     "metadata": {},
     "output_type": "execute_result"
    }
   ],
   "source": [
    "tf = get_tf(tweets['clean_tweet'].tolist(), voc)\n",
    "tf.shape"
   ]
  },
  {
   "cell_type": "markdown",
   "metadata": {},
   "source": [
    "> #### 2.2 Build the inverse document-frequency matrix (idf)"
   ]
  },
  {
   "cell_type": "code",
   "execution_count": 23,
   "metadata": {},
   "outputs": [],
   "source": [
    "def get_idf(documents, vocabulary):\n",
    "    \"\"\"\n",
    "    It computes IDF scores, storing idf values in a dictionary.\n",
    "    \n",
    "    :param documents: list of list of str, with the tokenized tweets.\n",
    "    :param vocabulary: dict with the vocabulary (computed in 1.1) and each term's frequency.\n",
    "    :return: dict with the terms as keys and values the idf for each term.\n",
    "    \"\"\"\n",
    "    idf = dict()\n",
    "    log_base = math.e\n",
    "    num_documents = len(documents)\n",
    "    log_num_documents = math.log(num_documents, log_base)\n",
    "    for i, term in enumerate(vocabulary):\n",
    "        n_term_docs = sum([1 if term in doc else 0 for doc in documents])\n",
    "        idf[term] = log_num_documents - math.log(n_term_docs, log_base) \n",
    "    return idf"
   ]
  },
  {
   "cell_type": "code",
   "execution_count": 24,
   "metadata": {},
   "outputs": [
    {
     "data": {
      "text/plain": [
       "412"
      ]
     },
     "execution_count": 24,
     "metadata": {},
     "output_type": "execute_result"
    }
   ],
   "source": [
    "idf = get_idf(tweets['clean_tweet'].tolist(), voc)\n",
    "len(idf)"
   ]
  },
  {
   "cell_type": "code",
   "execution_count": 25,
   "metadata": {},
   "outputs": [
    {
     "data": {
      "text/plain": [
       "2.120263536200091"
      ]
     },
     "execution_count": 25,
     "metadata": {},
     "output_type": "execute_result"
    }
   ],
   "source": [
    "idf['katie']"
   ]
  },
  {
   "cell_type": "markdown",
   "metadata": {},
   "source": [
    "#### Vectorization of input with the Vector Space Model"
   ]
  },
  {
   "cell_type": "code",
   "execution_count": 26,
   "metadata": {},
   "outputs": [],
   "source": [
    "def vectorize_vsr(document, vocabulary, idf):\n",
    "    \"\"\"\n",
    "    It takes the input text and vectorizes it based on the tf-idf formula.\n",
    "    \n",
    "    :param document: list of str, with the tokenized tweet\n",
    "    :param vocabulary: dict, with the vocabulary (computed in 1.1) and each term's frequency.\n",
    "    :param idf: dict, with the terms as keys and values the idf for each term.\n",
    "    :return: np.array, with the vectorized tweet\n",
    "    \"\"\"\n",
    "    vector = np.zeros(len(vocabulary))\n",
    "    term_freq = Counter(document)\n",
    "    max_freq = term_freq.most_common(1)[0][1]\n",
    "    for i, term in enumerate(vocabulary):\n",
    "        vector[i] = idf[term] * term_freq[term]/max_freq\n",
    "    return vector"
   ]
  },
  {
   "cell_type": "code",
   "execution_count": 27,
   "metadata": {
    "scrolled": false
   },
   "outputs": [
    {
     "data": {
      "text/plain": [
       "(50, 412)"
      ]
     },
     "execution_count": 27,
     "metadata": {},
     "output_type": "execute_result"
    }
   ],
   "source": [
    "vectorized_documents = np.array([vectorize_vsr(doc, voc, idf) for doc in tweets['clean_tweet'].tolist()])\n",
    "vectorized_documents.shape"
   ]
  },
  {
   "cell_type": "markdown",
   "metadata": {},
   "source": [
    "#### Cosine similarity for Vector Space Retrieval "
   ]
  },
  {
   "cell_type": "code",
   "execution_count": 28,
   "metadata": {},
   "outputs": [],
   "source": [
    "def cosine_similarity(v1,v2):\n",
    "    \"\"\"\n",
    "    It computes cosine similarity.\n",
    "    \n",
    "    :param v1: list of floats, with the vector of a document.\n",
    "    :param v2: list of floats, with the vector of a document.\n",
    "    :return: float\n",
    "    \"\"\"\n",
    "    sumxx, sumxy, sumyy = 0, 0, 0\n",
    "    for i in range(len(v1)):\n",
    "        x = v1[i]; y = v2[i]\n",
    "        sumxx += x*x\n",
    "        sumyy += y*y\n",
    "        sumxy += x*y\n",
    "    if sumxy == 0:\n",
    "        sim = 0\n",
    "    else:\n",
    "        sim = sumxy/math.sqrt(sumxx*sumyy)\n",
    "    return sim"
   ]
  },
  {
   "cell_type": "markdown",
   "metadata": {},
   "source": [
    "<a id='part3'></a>\n",
    "## PART 3: Encode documents with Probabilistic Retrieval\n",
    "\n",
    "In this part we will encode/vectorize the documents using the **Probabilistic Model**. \n",
    "More specifically:\n",
    "- we will compute the collection probabilities for each term **($P(t|M_c)$)**\n",
    "- we will copute the query-document likelihood **$P(t_i|document)$** for each query term $t_i$"
   ]
  },
  {
   "cell_type": "markdown",
   "metadata": {},
   "source": [
    "> #### 3.1 Compute collection probabilities $P(t|M_c$) for each document"
   ]
  },
  {
   "cell_type": "code",
   "execution_count": 36,
   "metadata": {},
   "outputs": [],
   "source": [
    "def get_collection_prob(vocabulary):\n",
    "    \"\"\"\n",
    "    Computes the collection probabilities of each term present in the documents/tweets.\n",
    "    \n",
    "    :param vocabulary: dict with the vocabulary (computed in 1.1) and each term's frequency.\n",
    "    :return: dict with the collection probabilities for each term in the vocabulary.\n",
    "    \"\"\"\n",
    "    probs = dict()\n",
    "    total_freq = sum(vocabulary.values())\n",
    "    for term in vocabulary:\n",
    "        probs[term] = vocabulary[term] / total_freq\n",
    "    return probs"
   ]
  },
  {
   "cell_type": "code",
   "execution_count": 37,
   "metadata": {},
   "outputs": [
    {
     "data": {
      "text/plain": [
       "412"
      ]
     },
     "execution_count": 37,
     "metadata": {},
     "output_type": "execute_result"
    }
   ],
   "source": [
    "p_Mc = get_collection_prob(voc)\n",
    "len(p_Mc)"
   ]
  },
  {
   "cell_type": "markdown",
   "metadata": {},
   "source": [
    "> #### 3.2 Implement query-document likelihood $P(q|doc)$"
   ]
  },
  {
   "cell_type": "code",
   "execution_count": 43,
   "metadata": {},
   "outputs": [],
   "source": [
    "def compute_query_likelihood(query, document, p_Mc, l):\n",
    "    \"\"\"\n",
    "    It computes the probability of a query given a document/tweet.\n",
    "    \n",
    "    :param query: np.array with the tokenized query\n",
    "    :param document: np.array with the tokenized document\n",
    "    :param p_Mc: dict with the collection probabilities for each term in the vocabulary.\n",
    "    :param l: float, smoothing variable lambda.    \n",
    "    :return: float with the query-document likelihood\n",
    "    \"\"\"\n",
    "    doc_len = len(document)\n",
    "    tf_q = np.zeros(len(query))\n",
    "    mc_q = np.zeros(len(query))\n",
    "    for i, t in enumerate(query):\n",
    "        for w in document:\n",
    "            if t == w:\n",
    "                tf_q[i] += 1\n",
    "        mc_q[i] = p_Mc[t]\n",
    "    p_t = l * (tf_q / doc_len) + (1 - l) * mc_q\n",
    "    prob = p_t.prod()\n",
    "    return prob\n"
   ]
  },
  {
   "cell_type": "markdown",
   "metadata": {},
   "source": [
    "<a id='part4'></a>\n",
    "## PART 4: Retrieve documents\n",
    "\n",
    "In this part, we will apply both **Vector Space Retrieval** and **Probabilistic retrieval** in order to get the relevant tweets to Katie Ledecky athlete. \n",
    "\n",
    "> There is nothing to implement in this part, however, you should run the following cells and test your implementation in Parts 2&3."
   ]
  },
  {
   "cell_type": "code",
   "execution_count": 39,
   "metadata": {},
   "outputs": [],
   "source": [
    "query = [\"katie\",\"ledecky\",\"athlete\"]\n",
    "doc_ids = tweets['id'].tolist()"
   ]
  },
  {
   "cell_type": "markdown",
   "metadata": {},
   "source": [
    "#### Retrieves with Vector Space Retrieval for `query = \"Katie Ledecky\"` and prints the top 10 relevant documents"
   ]
  },
  {
   "cell_type": "code",
   "execution_count": 40,
   "metadata": {},
   "outputs": [],
   "source": [
    "# vectorize query and tweets\n",
    "vectorized_documents_vsr =  np.array([vectorize_vsr(doc, voc, idf) for doc in tweets['clean_tweet'].tolist()])\n",
    "vectorized_query_vsr = np.array(vectorize_vsr(query, voc, idf))\n",
    "\n",
    "# performs vector space retrieval\n",
    "scores = dict()\n",
    "for idx, doc_vec in zip(doc_ids, vectorized_documents_vsr):\n",
    "    scores[idx] = cosine_similarity(doc_vec, vectorized_query_vsr)"
   ]
  },
  {
   "cell_type": "code",
   "execution_count": 41,
   "metadata": {},
   "outputs": [
    {
     "data": {
      "text/html": [
       "<div>\n",
       "<style scoped>\n",
       "    .dataframe tbody tr th:only-of-type {\n",
       "        vertical-align: middle;\n",
       "    }\n",
       "\n",
       "    .dataframe tbody tr th {\n",
       "        vertical-align: top;\n",
       "    }\n",
       "\n",
       "    .dataframe thead th {\n",
       "        text-align: right;\n",
       "    }\n",
       "</style>\n",
       "<table border=\"1\" class=\"dataframe\">\n",
       "  <thead>\n",
       "    <tr style=\"text-align: right;\">\n",
       "      <th></th>\n",
       "      <th>id</th>\n",
       "      <th>score</th>\n",
       "    </tr>\n",
       "  </thead>\n",
       "  <tbody>\n",
       "    <tr>\n",
       "      <th>0</th>\n",
       "      <td>1</td>\n",
       "      <td>0.578184</td>\n",
       "    </tr>\n",
       "    <tr>\n",
       "      <th>1</th>\n",
       "      <td>4</td>\n",
       "      <td>0.319205</td>\n",
       "    </tr>\n",
       "    <tr>\n",
       "      <th>2</th>\n",
       "      <td>2</td>\n",
       "      <td>0.305536</td>\n",
       "    </tr>\n",
       "    <tr>\n",
       "      <th>3</th>\n",
       "      <td>6</td>\n",
       "      <td>0.295565</td>\n",
       "    </tr>\n",
       "    <tr>\n",
       "      <th>4</th>\n",
       "      <td>5</td>\n",
       "      <td>0.282030</td>\n",
       "    </tr>\n",
       "    <tr>\n",
       "      <th>5</th>\n",
       "      <td>3</td>\n",
       "      <td>0.203919</td>\n",
       "    </tr>\n",
       "    <tr>\n",
       "      <th>6</th>\n",
       "      <td>7</td>\n",
       "      <td>0.186898</td>\n",
       "    </tr>\n",
       "    <tr>\n",
       "      <th>7</th>\n",
       "      <td>45</td>\n",
       "      <td>0.138721</td>\n",
       "    </tr>\n",
       "    <tr>\n",
       "      <th>8</th>\n",
       "      <td>12</td>\n",
       "      <td>0.118039</td>\n",
       "    </tr>\n",
       "    <tr>\n",
       "      <th>9</th>\n",
       "      <td>50</td>\n",
       "      <td>0.000000</td>\n",
       "    </tr>\n",
       "  </tbody>\n",
       "</table>\n",
       "</div>"
      ],
      "text/plain": [
       "   id     score\n",
       "0   1  0.578184\n",
       "1   4  0.319205\n",
       "2   2  0.305536\n",
       "3   6  0.295565\n",
       "4   5  0.282030\n",
       "5   3  0.203919\n",
       "6   7  0.186898\n",
       "7  45  0.138721\n",
       "8  12  0.118039\n",
       "9  50  0.000000"
      ]
     },
     "execution_count": 41,
     "metadata": {},
     "output_type": "execute_result"
    }
   ],
   "source": [
    "# Print top 5 retrieved tweets\n",
    "retrieved_tweets_vsr = pd.DataFrame(list(reversed(sorted(scores.items(), key=lambda item: item[1]))),\n",
    "                                    columns=['id', 'score'])\n",
    "retrieved_tweets_vsr[:10]"
   ]
  },
  {
   "cell_type": "markdown",
   "metadata": {},
   "source": [
    "#### Retrieve with Probabilistic Retrieval for `query = \"Katie Ledecky\"` and prints the top 10 relevant along with their probability (score)."
   ]
  },
  {
   "cell_type": "code",
   "execution_count": 46,
   "metadata": {},
   "outputs": [],
   "source": [
    "# performs probabilistic retrieval\n",
    "probs = dict()\n",
    "for idx, doc in zip(doc_ids, tweets['clean_tweet'].tolist()):\n",
    "    probs[idx] = compute_query_likelihood(query, doc,  p_Mc, 0.25)"
   ]
  },
  {
   "cell_type": "code",
   "execution_count": 47,
   "metadata": {},
   "outputs": [
    {
     "data": {
      "text/html": [
       "<div>\n",
       "<style scoped>\n",
       "    .dataframe tbody tr th:only-of-type {\n",
       "        vertical-align: middle;\n",
       "    }\n",
       "\n",
       "    .dataframe tbody tr th {\n",
       "        vertical-align: top;\n",
       "    }\n",
       "\n",
       "    .dataframe thead th {\n",
       "        text-align: right;\n",
       "    }\n",
       "</style>\n",
       "<table border=\"1\" class=\"dataframe\">\n",
       "  <thead>\n",
       "    <tr style=\"text-align: right;\">\n",
       "      <th></th>\n",
       "      <th>id</th>\n",
       "      <th>score</th>\n",
       "    </tr>\n",
       "  </thead>\n",
       "  <tbody>\n",
       "    <tr>\n",
       "      <th>0</th>\n",
       "      <td>1</td>\n",
       "      <td>1.120750e-04</td>\n",
       "    </tr>\n",
       "    <tr>\n",
       "      <th>1</th>\n",
       "      <td>6</td>\n",
       "      <td>8.671462e-06</td>\n",
       "    </tr>\n",
       "    <tr>\n",
       "      <th>2</th>\n",
       "      <td>2</td>\n",
       "      <td>8.671462e-06</td>\n",
       "    </tr>\n",
       "    <tr>\n",
       "      <th>3</th>\n",
       "      <td>4</td>\n",
       "      <td>6.973367e-06</td>\n",
       "    </tr>\n",
       "    <tr>\n",
       "      <th>4</th>\n",
       "      <td>5</td>\n",
       "      <td>5.655183e-06</td>\n",
       "    </tr>\n",
       "    <tr>\n",
       "      <th>5</th>\n",
       "      <td>3</td>\n",
       "      <td>4.244771e-06</td>\n",
       "    </tr>\n",
       "    <tr>\n",
       "      <th>6</th>\n",
       "      <td>7</td>\n",
       "      <td>1.829378e-06</td>\n",
       "    </tr>\n",
       "    <tr>\n",
       "      <th>7</th>\n",
       "      <td>45</td>\n",
       "      <td>1.437455e-06</td>\n",
       "    </tr>\n",
       "    <tr>\n",
       "      <th>8</th>\n",
       "      <td>12</td>\n",
       "      <td>1.437455e-06</td>\n",
       "    </tr>\n",
       "    <tr>\n",
       "      <th>9</th>\n",
       "      <td>50</td>\n",
       "      <td>2.616858e-07</td>\n",
       "    </tr>\n",
       "  </tbody>\n",
       "</table>\n",
       "</div>"
      ],
      "text/plain": [
       "   id         score\n",
       "0   1  1.120750e-04\n",
       "1   6  8.671462e-06\n",
       "2   2  8.671462e-06\n",
       "3   4  6.973367e-06\n",
       "4   5  5.655183e-06\n",
       "5   3  4.244771e-06\n",
       "6   7  1.829378e-06\n",
       "7  45  1.437455e-06\n",
       "8  12  1.437455e-06\n",
       "9  50  2.616858e-07"
      ]
     },
     "execution_count": 47,
     "metadata": {},
     "output_type": "execute_result"
    }
   ],
   "source": [
    "# Print top 5 retrieved tweets\n",
    "retrieved_tweets_prob = pd.DataFrame(list(reversed(sorted(probs.items(), key=lambda item: item[1]))),\n",
    "                                     columns=['id', 'score'])\n",
    "retrieved_tweets_prob[:10]            "
   ]
  },
  {
   "cell_type": "markdown",
   "metadata": {},
   "source": [
    "<a id='part5'></a>\n",
    "## PART 5: Evaluate retrieval\n",
    "\n",
    "In this part, we will evaluate both retrieval systems and discuss the impact of lambda value as well as the number of retrieved documents.\n",
    "\n",
    "We are now going to use the column `'relevant'` in the dataset. It is referring to whether the tweet is relevant to the query or not. We define this column as the 'oracle' that in an ideal scenario knows which tweets are relevant for Katie Ledecky and which are not.\n",
    "Based on this, we will compute the performance of the retrieval systems we built. 🎉"
   ]
  },
  {
   "cell_type": "markdown",
   "metadata": {},
   "source": [
    "#### Precision@k & Recall@k"
   ]
  },
  {
   "cell_type": "code",
   "execution_count": 48,
   "metadata": {},
   "outputs": [],
   "source": [
    "def compute_precision_at_k(retrieved_tweets, gt, k=5):\n",
    "    \"\"\"\n",
    "    It computes the precision score at a defined set of retrieved documents (k).\n",
    "    \n",
    "    :param predict: list of predictions\n",
    "    :param gt: list of actual relevant data\n",
    "    :param k: int\n",
    "    :return: float, the precision at a given k\n",
    "    \"\"\"\n",
    "    results = retrieved_tweets.merge(gt, how=\"outer\", on=\"id\")\n",
    "    return np.array(results[:k]['relevant'].tolist()).mean()\n",
    "\n",
    "def compute_recall_at_k(retrieved_tweets, gt, k=5):\n",
    "    \"\"\"\n",
    "    It computes the recall score at a defined set of retrieved documents (k).\n",
    "    \n",
    "    :param predict: list of predictions\n",
    "    :param gt: list of actual relevant data\n",
    "    :param k: int\n",
    "    :return: float, the precision at a given k\n",
    "    \"\"\"\n",
    "    relevant = len(tweets[tweets['relevant']==1])\n",
    "    results = retrieved_tweets.merge(gt, how=\"outer\", on=\"id\")[:k]\n",
    "    hits = len(results[results['relevant']==1])\n",
    "    return hits / relevant"
   ]
  },
  {
   "cell_type": "markdown",
   "metadata": {},
   "source": [
    "> #### 5.1 Discuss the difference in performance between the Vector Space and Probabilistic Retrieval based on the Precision and Recall scores in the provided table."
   ]
  },
  {
   "cell_type": "code",
   "execution_count": 64,
   "metadata": {},
   "outputs": [],
   "source": [
    "vsr_precision = compute_precision_at_k(retrieved_tweets_vsr, tweets[['id', 'relevant']], 5)\n",
    "prob_precision = compute_precision_at_k(retrieved_tweets_prob, tweets[['id', 'relevant']], 5)\n",
    "\n",
    "vsr_recall = compute_recall_at_k(retrieved_tweets_vsr, tweets[['id', 'relevant']], 5)\n",
    "prob_recall = compute_recall_at_k(retrieved_tweets_prob, tweets[['id', 'relevant']], 5)"
   ]
  },
  {
   "cell_type": "code",
   "execution_count": 65,
   "metadata": {},
   "outputs": [
    {
     "data": {
      "text/html": [
       "<div>\n",
       "<style scoped>\n",
       "    .dataframe tbody tr th:only-of-type {\n",
       "        vertical-align: middle;\n",
       "    }\n",
       "\n",
       "    .dataframe tbody tr th {\n",
       "        vertical-align: top;\n",
       "    }\n",
       "\n",
       "    .dataframe thead th {\n",
       "        text-align: right;\n",
       "    }\n",
       "</style>\n",
       "<table border=\"1\" class=\"dataframe\">\n",
       "  <thead>\n",
       "    <tr style=\"text-align: right;\">\n",
       "      <th></th>\n",
       "      <th>Model</th>\n",
       "      <th>Precision@5</th>\n",
       "      <th>Recall@5</th>\n",
       "    </tr>\n",
       "  </thead>\n",
       "  <tbody>\n",
       "    <tr>\n",
       "      <th>0</th>\n",
       "      <td>Vector Space Retrieval</td>\n",
       "      <td>1.0</td>\n",
       "      <td>0.833</td>\n",
       "    </tr>\n",
       "    <tr>\n",
       "      <th>1</th>\n",
       "      <td>Probabilistic Retrieval</td>\n",
       "      <td>1.0</td>\n",
       "      <td>0.833</td>\n",
       "    </tr>\n",
       "  </tbody>\n",
       "</table>\n",
       "</div>"
      ],
      "text/plain": [
       "                     Model  Precision@5  Recall@5\n",
       "0   Vector Space Retrieval          1.0     0.833\n",
       "1  Probabilistic Retrieval          1.0     0.833"
      ]
     },
     "execution_count": 65,
     "metadata": {},
     "output_type": "execute_result"
    }
   ],
   "source": [
    "vsr_precision = compute_precision_at_k(retrieved_tweets_vsr, tweets[['id', 'relevant']], 5)\n",
    "prob_precision = compute_precision_at_k(retrieved_tweets_prob, tweets[['id', 'relevant']], 5)\n",
    "\n",
    "vsr_recall = compute_recall_at_k(retrieved_tweets_vsr, tweets[['id', 'relevant']], 5)\n",
    "prob_recall = compute_recall_at_k(retrieved_tweets_prob, tweets[['id', 'relevant']], 5)\n",
    "\n",
    "pd.DataFrame([('Vector Space Retrieval', vsr_precision, vsr_recall),\n",
    "              ('Probabilistic Retrieval',prob_precision, prob_recall)], \n",
    "             columns=['Model', 'Precision@5', 'Recall@5']).round(3)"
   ]
  },
  {
   "cell_type": "markdown",
   "metadata": {},
   "source": [
    "**➡️ PLEASE WRITE YOUR ANSWER HERE**\n",
    "\n",
    "\n",
    "I got the same precision and recall for both models. Even though the ranking of the top-5 documents is different, they both retrieve the same set of the top-5 documents (which also appears to be the correct one)\n",
    "Even though the model retrieve the right documents, there is no significant decrease of the similarity score after the top-6 correct documents. This means that the scores themselves (the absolute values) are not very representative and only the ranking matters.\n",
    "The recall value is also understandable, since one of the relevant documents was not retrieved (since there are more than 5)"
   ]
  },
  {
   "cell_type": "markdown",
   "metadata": {},
   "source": [
    "> #### 5.2 Discuss the following plot regarding the impact of the $k$ variable in the Precision@k metric."
   ]
  },
  {
   "cell_type": "code",
   "execution_count": 54,
   "metadata": {},
   "outputs": [],
   "source": [
    "ks = [1, 5, 10, 15]"
   ]
  },
  {
   "cell_type": "code",
   "execution_count": 55,
   "metadata": {},
   "outputs": [
    {
     "data": {
      "text/plain": [
       "<seaborn.axisgrid.FacetGrid at 0x7fcfb92bcac0>"
      ]
     },
     "execution_count": 55,
     "metadata": {},
     "output_type": "execute_result"
    },
    {
     "data": {
      "image/png": "[encoded data removed]",
      "text/plain": [
       "<Figure size 500x500 with 1 Axes>"
      ]
     },
     "metadata": {},
     "output_type": "display_data"
    }
   ],
   "source": [
    "# run Probabilistic Retrieval and evaluate it on different k\n",
    "res = list()\n",
    "for k in ks:\n",
    "    res.append({'Precision': compute_precision_at_k(retrieved_tweets_prob, tweets[['id', 'relevant']], k),\n",
    "                'k': k})\n",
    "                \n",
    "res_df = pd.DataFrame(res)\n",
    "sns.relplot(data=res_df, x=\"k\", y=\"Precision\", kind=\"line\").set(title='Precision@k')"
   ]
  },
  {
   "cell_type": "code",
   "execution_count": 56,
   "metadata": {},
   "outputs": [
    {
     "data": {
      "text/plain": [
       "relevant    6\n",
       "dtype: int64"
      ]
     },
     "execution_count": 56,
     "metadata": {},
     "output_type": "execute_result"
    }
   ],
   "source": [
    "tweets[['relevant']].sum()"
   ]
  },
  {
   "cell_type": "markdown",
   "metadata": {},
   "source": [
    "**➡️ PLEASE WRITE YOUR ANSWER HERE**\n",
    "\n",
    "Since there are only 6 relevant documents in the corpus, the precision @ k can not maintain the value 1 if k is higher than 6.\n",
    "\n",
    "The fact that the model has precision of 1 for k: 1-6 means that it's done the ranking the best way possible (assuming we do not have any preference between the relevant documents)"
   ]
  },
  {
   "cell_type": "markdown",
   "metadata": {},
   "source": [
    "> #### 5.3 Discuss the following plot regarding the impact of the $\\lambda$ (lambda) in the query-document likelihood probability $P(q|Doc)$.\n",
    "\n",
    "In this example we estimate the likehood for a given query and a given tweet (see below). The $P(t|M_c)$ values are the same as in the rest of the notebook and are calculated based on the whole document collection. "
   ]
  },
  {
   "cell_type": "code",
   "execution_count": 58,
   "metadata": {},
   "outputs": [
    {
     "name": "stdout",
     "output_type": "stream",
     "text": [
      "The query: \"katie ledecky swimmer\"\"\n",
      "Tweet: \"Is Katie Ledecky competing in the 2024 Paris Olympics? #allaboutsportsch\"\n"
     ]
    }
   ],
   "source": [
    "new_query = [\"katie\",\"ledecky\",\"swimmer\"]\n",
    "a_document= tweets['clean_tweet'].tolist()[3]\n",
    "\n",
    "print('The query: \"{}\"\"'.format(' '.join(new_query)))\n",
    "print('Tweet: \"{}\"'.format(tweets['tweet'].tolist()[3]))"
   ]
  },
  {
   "cell_type": "code",
   "execution_count": 60,
   "metadata": {},
   "outputs": [
    {
     "name": "stdout",
     "output_type": "stream",
     "text": [
      "     Likelihood  lambda\n",
      "0  1.550731e-07    0.00\n",
      "1  1.743342e-06    0.25\n",
      "2  3.523362e-06    0.50\n",
      "3  3.580470e-06    0.75\n",
      "4  0.000000e+00    1.00\n"
     ]
    },
    {
     "data": {
      "text/plain": [
       "<seaborn.axisgrid.FacetGrid at 0x7fcfcca220d0>"
      ]
     },
     "execution_count": 60,
     "metadata": {},
     "output_type": "execute_result"
    },
    {
     "data": {
      "image/png": "[encoded data removed]",
      "text/plain": [
       "<Figure size 500x500 with 1 Axes>"
      ]
     },
     "metadata": {},
     "output_type": "display_data"
    }
   ],
   "source": [
    "# for each lambda get the query-document likehood estimation.\n",
    "lambdas = [0, 0.25, 0.5, 0.75, 1]\n",
    "probabilities = list()\n",
    "for l in lambdas:\n",
    "    probabilities.append({'Likelihood': compute_query_likelihood(new_query, a_document,  p_Mc, l),\n",
    "                         'lambda': l})\n",
    "\n",
    "res_df = pd.DataFrame(probabilities)\n",
    "print(res_df)\n",
    "sns.relplot(data=res_df, x=\"lambda\", y=\"Likelihood\", \n",
    "            kind=\"line\").set(title='Likelihood of a document on different Lambda values')"
   ]
  },
  {
   "cell_type": "code",
   "execution_count": 63,
   "metadata": {},
   "outputs": [
    {
     "name": "stdout",
     "output_type": "stream",
     "text": [
      "['is', 'katie', 'ledecky', 'competing', '2024', 'paris', 'olympics', 'allaboutsportsch']\n",
      "[0.01081917 0.00927357 0.0015456 ]\n",
      "[1. 1. 0.]\n"
     ]
    }
   ],
   "source": [
    "new_query = [\"katie\",\"ledecky\",\"swimmer\"]\n",
    "tf_q = np.zeros(len(new_query))\n",
    "mc_q = np.zeros(len(new_query))\n",
    "\n",
    "a_document= tweets['clean_tweet'].tolist()[3]\n",
    "print(a_document)\n",
    "for i, t in enumerate(new_query):\n",
    "    for w in a_document:\n",
    "        if t == w:\n",
    "            tf_q[i] += 1\n",
    "    mc_q[i] = p_Mc[t]\n",
    "print(mc_q)\n",
    "print(tf_q)"
   ]
  },
  {
   "cell_type": "markdown",
   "metadata": {},
   "source": [
    "**➡️ PLEASE WRITE YOUR ANSWER HERE**\n",
    "\n",
    "The lambda provides the smoothing effect and gives some apriori information about the terms of the query (how common they are in the whole corpora, rather then the document)\n",
    "\n",
    "We can see, that the probabilities for a random term in a corpora are usually way lower than the probabilities of a term in the document (for our example). This is because of the length normalization. That is why when we increase the lambda we pay more attention to the document language model and get higher likelihoods. When lambda is 1 we get the value 0, because we get rid of the smoothing effect and are faced with the exact problem that it is trying to alleviate: one word of the query is not present in the document leads to the probability of the document being 0.\n"
   ]
  },
  {
   "cell_type": "markdown",
   "metadata": {},
   "source": [
    "## 🔚 END OF EXAM\n",
    "> Don't forget to change the submitted file with your SciperNo as the file name before submitting."
   ]
  }
 ],
 "metadata": {
  "kernelspec": {
   "display_name": "Python 3.9.13 ('dist_is')",
   "language": "python",
   "name": "python3"
  },
  "language_info": {
   "codemirror_mode": {
    "name": "ipython",
    "version": 3
   },
   "file_extension": ".py",
   "mimetype": "text/x-python",
   "name": "python",
   "nbconvert_exporter": "python",
   "pygments_lexer": "ipython3",
   "version": "3.9.13"
  },
  "vscode": {
   "interpreter": {
    "hash": "9cce9a7d5fea89914e75676aacd39d3b9c769cb446dcb249b9b439a3f51e5743"
   }
  }
 },
 "nbformat": 4,
 "nbformat_minor": 2
}
